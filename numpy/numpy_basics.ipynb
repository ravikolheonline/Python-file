{
 "cells": [
  {
   "cell_type": "code",
   "execution_count": 33,
   "id": "5c241f4c",
   "metadata": {},
   "outputs": [
    {
     "data": {
      "text/plain": [
       "'C:\\\\Users\\\\Admin'"
      ]
     },
     "execution_count": 33,
     "metadata": {},
     "output_type": "execute_result"
    }
   ],
   "source": [
    "# To find current working dictionary.\n",
    "import os\n",
    "os.getcwd()"
   ]
  },
  {
   "cell_type": "code",
   "execution_count": 34,
   "id": "5218d510",
   "metadata": {},
   "outputs": [],
   "source": [
    "os.chdir(\"F:\\\\python for data science\\\\jupyter_notebook_program\")"
   ]
  },
  {
   "cell_type": "code",
   "execution_count": 35,
   "id": "b445dc60",
   "metadata": {},
   "outputs": [
    {
     "data": {
      "text/plain": [
       "'F:\\\\python for data science\\\\jupyter_notebook_program'"
      ]
     },
     "execution_count": 35,
     "metadata": {},
     "output_type": "execute_result"
    }
   ],
   "source": [
    "import os\n",
    "os.getcwd()"
   ]
  },
  {
   "cell_type": "code",
   "execution_count": 1,
   "id": "7cbf98e0",
   "metadata": {},
   "outputs": [],
   "source": [
    "import numpy as np"
   ]
  },
  {
   "cell_type": "code",
   "execution_count": 4,
   "id": "526eeea9",
   "metadata": {},
   "outputs": [
    {
     "data": {
      "text/plain": [
       "array([ 5,  9, 13])"
      ]
     },
     "execution_count": 4,
     "metadata": {},
     "output_type": "execute_result"
    }
   ],
   "source": [
    "np.array([5,9,13]) # it accept only integer . list is coverted in to array."
   ]
  },
  {
   "cell_type": "code",
   "execution_count": 6,
   "id": "ddd834c9",
   "metadata": {},
   "outputs": [
    {
     "name": "stdout",
     "output_type": "stream",
     "text": [
      "type[5, 9, 13]\n"
     ]
    }
   ],
   "source": [
    "print(type[5,9,13])"
   ]
  },
  {
   "cell_type": "code",
   "execution_count": 8,
   "id": "6a9833ef",
   "metadata": {},
   "outputs": [
    {
     "name": "stdout",
     "output_type": "stream",
     "text": [
      " Type of a is :  int32\n",
      "\n",
      " ******************************\n",
      "\n",
      " [[1 2]\n",
      " [3 4]\n",
      " [5 6]]\n"
     ]
    }
   ],
   "source": [
    "a=np.array([[1,2],[3,4],[5,6]])\n",
    "print(\" Type of a is : \", a.dtype)\n",
    "print(\"\\n\",'*'*30)\n",
    "print('\\n', a)\n"
   ]
  },
  {
   "cell_type": "code",
   "execution_count": 15,
   "id": "583460b9",
   "metadata": {},
   "outputs": [
    {
     "name": "stdout",
     "output_type": "stream",
     "text": [
      "\n",
      " [[1. 2.]\n",
      " [3. 4.]\n",
      " [5. 6.]]\n",
      "[[1. 2.]\n",
      " [3. 4.]\n",
      " [5. 6.]]\n"
     ]
    }
   ],
   "source": [
    "a=np.array([[1,2],[3,4],[5,6]],dtype=float)\n",
    "print('\\n', a)\n",
    "print(a)"
   ]
  },
  {
   "cell_type": "code",
   "execution_count": 17,
   "id": "0dcdbfc9",
   "metadata": {},
   "outputs": [
    {
     "data": {
      "text/plain": [
       "array([[4, 5, 6],\n",
       "       [7, 8, 9]])"
      ]
     },
     "execution_count": 17,
     "metadata": {},
     "output_type": "execute_result"
    }
   ],
   "source": [
    "np.array(np.mat('4 5 6; 7 8 9')) # creating array using matrix"
   ]
  },
  {
   "cell_type": "code",
   "execution_count": 20,
   "id": "700df35f",
   "metadata": {},
   "outputs": [
    {
     "name": "stdout",
     "output_type": "stream",
     "text": [
      "[1, 2, 3, 4, 5, 6]\n",
      "<class 'numpy.ndarray'>\n"
     ]
    }
   ],
   "source": [
    "a=[1,2,3,4,5,6]\n",
    "c=np.array(a)\n",
    "print(a)\n",
    "print(type(c))"
   ]
  },
  {
   "cell_type": "code",
   "execution_count": 24,
   "id": "c7be3673",
   "metadata": {},
   "outputs": [
    {
     "name": "stdout",
     "output_type": "stream",
     "text": [
      "[1 2 3 4 5 6]\n",
      "<class 'numpy.ndarray'>\n"
     ]
    }
   ],
   "source": [
    "b=np.asarray(a)        # np.asarray is used to copy one array in to another variables\n",
    "print(b)\n",
    "print(type(b))"
   ]
  },
  {
   "cell_type": "code",
   "execution_count": null,
   "id": "561ee61e",
   "metadata": {},
   "outputs": [],
   "source": [
    "# NUMPY DATA TYPES"
   ]
  },
  {
   "cell_type": "code",
   "execution_count": 28,
   "id": "bd9dc39a",
   "metadata": {},
   "outputs": [
    {
     "name": "stdout",
     "output_type": "stream",
     "text": [
      "Type/class of this object is :  <class 'numpy.ndarray'>\n",
      "Here is the matrix : \n",
      " [[1 2 3]\n",
      " [4 5 6]\n",
      " [7 8 9]] \n",
      " .....................................\n",
      "\n",
      "The dimension of this matrix is :  2\n",
      "The size of matrix is :  9\n",
      "The datatypes of this matrix is  int32\n"
     ]
    }
   ],
   "source": [
    "my_mat = [[1,2,3],[4,5,6],[7,8,9]]\n",
    "mat=np.array(my_mat)\n",
    "print('Type/class of this object is : ',type(mat))\n",
    "print('Here is the matrix : \\n', mat ,'\\n .....................................\\n')\n",
    "print('The dimension of this matrix is : ', mat.ndim , sep=\" \")\n",
    "print('The size of matrix is : ', mat.size, sep=' ')\n",
    "print('The datatypes of this matrix is ', mat.dtype)\n",
    "      "
   ]
  },
  {
   "cell_type": "code",
   "execution_count": 5,
   "id": "1026f4ea",
   "metadata": {},
   "outputs": [
    {
     "data": {
      "text/plain": [
       "30.0"
      ]
     },
     "execution_count": 5,
     "metadata": {},
     "output_type": "execute_result"
    }
   ],
   "source": [
    "np.ceil(29.3) # it converts intger into float value"
   ]
  },
  {
   "cell_type": "code",
   "execution_count": 8,
   "id": "fefffe20",
   "metadata": {},
   "outputs": [
    {
     "data": {
      "text/plain": [
       "array([ 5, 10, 15, 20, 25, 30, 35])"
      ]
     },
     "execution_count": 8,
     "metadata": {},
     "output_type": "execute_result"
    }
   ],
   "source": [
    "#arange and linespces\n",
    "a=np.arange(5,40,5) # (staart stop and stepsize)from start to stop at  it write numbers in step sizes\n",
    "a"
   ]
  },
  {
   "cell_type": "code",
   "execution_count": 20,
   "id": "5f8f99e2",
   "metadata": {},
   "outputs": [
    {
     "data": {
      "text/plain": [
       "array([ 2. ,  2.4,  2.8,  3.2,  3.6,  4. ,  4.4,  4.8,  5.2,  5.6,  6. ,\n",
       "        6.4,  6.8,  7.2,  7.6,  8. ,  8.4,  8.8,  9.2,  9.6, 10. , 10.4])"
      ]
     },
     "execution_count": 20,
     "metadata": {},
     "output_type": "execute_result"
    }
   ],
   "source": [
    "a=np.arange(2,10.5,0.4)\n",
    "a"
   ]
  },
  {
   "cell_type": "code",
   "execution_count": 22,
   "id": "fb945b0a",
   "metadata": {},
   "outputs": [
    {
     "data": {
      "text/plain": [
       "array([10.4, 10. ,  9.6,  9.2,  8.8,  8.4,  8. ,  7.6,  7.2,  6.8,  6.4,\n",
       "        6. ,  5.6,  5.2,  4.8,  4.4,  4. ,  3.6,  3.2,  2.8,  2.4,  2. ])"
      ]
     },
     "execution_count": 22,
     "metadata": {},
     "output_type": "execute_result"
    }
   ],
   "source": [
    "a[::-1]   # reverse order "
   ]
  },
  {
   "cell_type": "code",
   "execution_count": 23,
   "id": "35f9e813",
   "metadata": {},
   "outputs": [
    {
     "name": "stdout",
     "output_type": "stream",
     "text": [
      "Every fifth number from 50 to 5 in reverse order \n",
      " [50 45 40 35 30 25 20 15 10  5]\n"
     ]
    }
   ],
   "source": [
    "print(\"Every fifth number from 50 to 5 in reverse order \\n\", np.arange(50,0,-5))"
   ]
  },
  {
   "cell_type": "code",
   "execution_count": 3,
   "id": "fe7069a0",
   "metadata": {},
   "outputs": [
    {
     "name": "stdout",
     "output_type": "stream",
     "text": [
      "[10.  17.5 25.  32.5 40. ]\n"
     ]
    }
   ],
   "source": [
    "# line spaces   (it divides start and end point into number of element that is mension )\n",
    "print(np.linspace(10,40,5))"
   ]
  },
  {
   "cell_type": "code",
   "execution_count": 7,
   "id": "d359cd03",
   "metadata": {},
   "outputs": [
    {
     "name": "stdout",
     "output_type": "stream",
     "text": [
      "(array([ 4.5 , 11.43, 18.36, 25.29]), 6.93)\n"
     ]
    }
   ],
   "source": [
    "print(np.linspace(4.5,25.29,num=4, endpoint=True, retstep= True)) \n",
    "# IT Divides start point and end point in to number mension.\n",
    "# It will find step size and include last element\n"
   ]
  },
  {
   "cell_type": "code",
   "execution_count": 35,
   "id": "26e4d9e9",
   "metadata": {},
   "outputs": [
    {
     "name": "stdout",
     "output_type": "stream",
     "text": [
      "Matrix of zeros can printed like this\n",
      " \n",
      "[[0. 0. 0. 0. 0. 0.]\n",
      " [0. 0. 0. 0. 0. 0.]\n",
      " [0. 0. 0. 0. 0. 0.]\n",
      " [0. 0. 0. 0. 0. 0.]\n",
      " [0. 0. 0. 0. 0. 0.]]\n"
     ]
    }
   ],
   "source": [
    "# Matrix creation   it prints matrix of value zero having 5 rows and 6 columns\n",
    "print(\"Matrix of zeros can printed like this\\n \")\n",
    "print(np.zeros((5,6)))\n"
   ]
  },
  {
   "cell_type": "code",
   "execution_count": 34,
   "id": "2223a56f",
   "metadata": {},
   "outputs": [
    {
     "name": "stdout",
     "output_type": "stream",
     "text": [
      "Matrix of one can printed like this\n",
      " \n",
      "[[1. 1. 1. 1. 1. 1.]\n",
      " [1. 1. 1. 1. 1. 1.]\n",
      " [1. 1. 1. 1. 1. 1.]\n",
      " [1. 1. 1. 1. 1. 1.]\n",
      " [1. 1. 1. 1. 1. 1.]]\n"
     ]
    }
   ],
   "source": [
    "print(\"Matrix of one can printed like this\\n \")\n",
    "print(np.ones((5,6)))"
   ]
  },
  {
   "cell_type": "code",
   "execution_count": 32,
   "id": "e7084cb4",
   "metadata": {},
   "outputs": [
    {
     "name": "stdout",
     "output_type": "stream",
     "text": [
      "vector of zeros\n",
      "\n",
      "[0. 0. 0. 0. 0.]\n"
     ]
    }
   ],
   "source": [
    "print(\"vector of zeros\\n\")\n",
    "print(np.zeros(5))"
   ]
  },
  {
   "cell_type": "raw",
   "id": "c375a412",
   "metadata": {},
   "source": [
    "print(\"Matrix of 5 can printed like this\\n \")\n",
    "print(5* np.ones((3,4)))"
   ]
  },
  {
   "cell_type": "code",
   "execution_count": 39,
   "id": "ff2269ad",
   "metadata": {},
   "outputs": [
    {
     "name": "stdout",
     "output_type": "stream",
     "text": [
      "[[ 0  1  2  3  4  5]\n",
      " [ 6  7  8  9 10 11]\n",
      " [12 13 14 15 16 17]\n",
      " [18 19 20 21 22 23]\n",
      " [24 25 26 27 28 29]]\n"
     ]
    }
   ],
   "source": [
    "# construct a diogonal matrix\n",
    "x=print(np.arange(30).reshape(5,6))\n",
    "x"
   ]
  },
  {
   "cell_type": "code",
   "execution_count": 46,
   "id": "8e65d73b",
   "metadata": {},
   "outputs": [
    {
     "name": "stdout",
     "output_type": "stream",
     "text": [
      "Random number generation from uniform distribution\n",
      "\n",
      "[[0.89286015 0.33197981 0.82122912 0.04169663]\n",
      " [0.10765668 0.59505206 0.52981736 0.41880743]\n",
      " [0.33540785 0.62251943 0.43814143 0.73588211]\n",
      " [0.51803641 0.5788586  0.6453551  0.99022427]]\n"
     ]
    }
   ],
   "source": [
    "# Random number generation\n",
    "np.random.seed(6) # each number is generated with same seed .check the following with or without this code\n",
    "print(\"Random number generation from uniform distribution\\n\")\n",
    "print(np.random.rand(4,4))"
   ]
  },
  {
   "cell_type": "code",
   "execution_count": 45,
   "id": "59228c49",
   "metadata": {},
   "outputs": [
    {
     "name": "stdout",
     "output_type": "stream",
     "text": [
      "Random number generation from uniform distribution\n",
      "\n",
      "[[0.56679677 0.11291833 0.06277624 0.57472422]\n",
      " [0.48548527 0.3014221  0.03979556 0.63389414]\n",
      " [0.12433568 0.01160584 0.27666659 0.30154554]\n",
      " [0.18031763 0.06697796 0.77923395 0.40074847]]\n"
     ]
    }
   ],
   "source": [
    "print(\"Random number generation from uniform distribution\\n\")\n",
    "print(np.random.rand(4,4))"
   ]
  },
  {
   "cell_type": "code",
   "execution_count": 47,
   "id": "6ad833c2",
   "metadata": {},
   "outputs": [
    {
     "name": "stdout",
     "output_type": "stream",
     "text": [
      "Number from normal distribution with zero mean and standard devition 1\n",
      "[[-0.33588161  1.23773784  0.11112817  0.12915125]\n",
      " [ 0.07612761 -0.15512816  0.63422534  0.810655  ]\n",
      " [ 0.35480861  1.81259031 -1.3564758  -0.46363197]\n",
      " [ 0.82465384 -1.17643148  1.56448966  0.71270509]]\n"
     ]
    }
   ],
   "source": [
    "print(\"Number from normal distribution with zero mean and standard devition 1\")\n",
    "print(np.random.randn(4,4))  # randn always give normal distribution curve"
   ]
  },
  {
   "cell_type": "code",
   "execution_count": 48,
   "id": "a368402d",
   "metadata": {},
   "outputs": [
    {
     "name": "stdout",
     "output_type": "stream",
     "text": [
      "randaom number integer [6 8 6 5 5 7]\n"
     ]
    }
   ],
   "source": [
    "print(\"randaom number integer\",np.random.randint(5,10,6))"
   ]
  },
  {
   "cell_type": "code",
   "execution_count": 49,
   "id": "d45c4ba1",
   "metadata": {},
   "outputs": [
    {
     "name": "stdout",
     "output_type": "stream",
     "text": [
      "randaom number integer [140  41  80 189  38 119  73 166  20  52 130 154  75 134  14 129 181 106\n",
      "  47  45  82  78 198  68  71 158 154  73 162 147  27   8 166  41 157  65\n",
      " 191 153 107 116 126 161  55 116  39  33  60  51  97  68 113 177   6 150\n",
      "  96  12 183 173  82  44 125  85  81  50 177 125  84  62 165 179 156 155\n",
      " 181  44  42 112 131  38 174 160  27  56 100  76 138  77  84  44 104 175\n",
      "  10  62 104 125 101  28 129  92  50 164]\n"
     ]
    }
   ],
   "source": [
    "print(\"randaom number integer\",np.random.randint(5,200,100))\n",
    "# it will print 100 random number between 5 and 200"
   ]
  },
  {
   "cell_type": "code",
   "execution_count": 53,
   "id": "2cce116d",
   "metadata": {},
   "outputs": [
    {
     "name": "stdout",
     "output_type": "stream",
     "text": [
      "randaom number integer matrix can be printed like this\n",
      " [[ 19 129  99 159  69  96 135]\n",
      " [  7  69  44  16  91  43 175]\n",
      " [149  14 154  34 196 191  29]\n",
      " [199  25  39 104  46  67  41]\n",
      " [ 68 196 181 132 138  31 172]\n",
      " [102  38  43  63  29 166 174]]\n"
     ]
    }
   ],
   "source": [
    "print(\"randaom number integer matrix can be printed like this\\n\",np.random.randint(5,200,(6,7)))"
   ]
  },
  {
   "cell_type": "code",
   "execution_count": 56,
   "id": "06f7b039",
   "metadata": {},
   "outputs": [
    {
     "name": "stdout",
     "output_type": "stream",
     "text": [
      "your OTP is:  [4292]\n",
      "Enter your one time time password: 4000\n",
      "you have entered incorrect OTP..ENTER IT AGAIN\n",
      "your OTP is:  [4469]\n",
      "Enter your one time time password: 4469\n",
      " you have successfully login\n"
     ]
    }
   ],
   "source": [
    "#real time example\n",
    "while True:\n",
    "    otp1= np.random.randint(1000,10000,1)\n",
    "    print('your OTP is: ',otp1)\n",
    "    user_otp=(int(input(\"Enter your one time time password: \")))\n",
    "    if otp1==user_otp:\n",
    "        print(' you have successfully login')\n",
    "        break\n",
    "    else:\n",
    "        print('you have entered incorrect OTP..ENTER IT AGAIN')\n",
    "        continue"
   ]
  },
  {
   "cell_type": "code",
   "execution_count": 3,
   "id": "6b99c838",
   "metadata": {},
   "outputs": [
    {
     "data": {
      "text/plain": [
       "array([28, 98, 47, 97, 68, 89, 37, 69,  4, 78, 90,  2, 54, 40, 96, 71, 26,\n",
       "       43, 30, 90, 10, 56, 16, 58, 51, 96, 22,  7, 79,  7])"
      ]
     },
     "execution_count": 3,
     "metadata": {},
     "output_type": "execute_result"
    }
   ],
   "source": [
    "#Reshaping in other ways\n",
    "import numpy as np\n",
    "from numpy.random import randint as ri\n",
    "a=ri(1,99,30)\n",
    "a"
   ]
  },
  {
   "cell_type": "code",
   "execution_count": 60,
   "id": "32d9d461",
   "metadata": {},
   "outputs": [
    {
     "data": {
      "text/plain": [
       "array([[79, 25, 30, 41, 59, 25],\n",
       "       [71, 98,  6, 12, 43, 12],\n",
       "       [45,  2,  8,  8, 97, 70],\n",
       "       [64,  6,  9, 46, 75,  4],\n",
       "       [37, 40, 67, 43, 23, 82]])"
      ]
     },
     "execution_count": 60,
     "metadata": {},
     "output_type": "execute_result"
    }
   ],
   "source": [
    "c=a.reshape(5,6) # it will fix all 30 element in to 5 x 6 matrix. we can take 15 x 2 , 6 x 5, 10 x 3 matrix also\n",
    "c"
   ]
  },
  {
   "cell_type": "code",
   "execution_count": 9,
   "id": "59ea6099",
   "metadata": {},
   "outputs": [
    {
     "data": {
      "text/plain": [
       "array([[[80, 60, 53, 83, 90],\n",
       "        [45, 54, 33, 39, 39],\n",
       "        [83, 74, 84, 80, 18]],\n",
       "\n",
       "       [[78, 51, 66, 93, 17],\n",
       "        [50, 93, 23, 31, 32],\n",
       "        [35, 28, 76, 84, 27]]])"
      ]
     },
     "execution_count": 9,
     "metadata": {},
     "output_type": "execute_result"
    }
   ],
   "source": [
    "#Reshaping in other ways\n",
    "import numpy as np\n",
    "from numpy.random import randint as ri\n",
    "a=ri(1,99,30)\n",
    "a\n",
    "c=a.reshape(2,3,5) # it will fix all 30 element in to 5 x 6 matrix. we can take 15 x 2 , 6 x 5, 10 x 3 matrix also\n",
    "c"
   ]
  },
  {
   "cell_type": "code",
   "execution_count": 61,
   "id": "c6051099",
   "metadata": {},
   "outputs": [
    {
     "name": "stdout",
     "output_type": "stream",
     "text": [
      "The min of c is:  2\n",
      "The max of c is:  98\n",
      "The mean of c is:  40.9\n"
     ]
    }
   ],
   "source": [
    "print(\"The min of c is: \", c.min())\n",
    "print(\"The max of c is: \", c.max())\n",
    "print(\"The mean of c is: \", c.mean())"
   ]
  },
  {
   "cell_type": "code",
   "execution_count": 15,
   "id": "393391a3",
   "metadata": {},
   "outputs": [
    {
     "name": "stdout",
     "output_type": "stream",
     "text": [
      "\n",
      " 5x5 matrix of randon integer\n",
      " -------------------------------------------------- \n",
      " [[69 18 96 89 38]\n",
      " [98 60 44 92 28]\n",
      " [53  9 90 13 46]\n",
      " [52 70 80 94 49]\n",
      " [80 64 97 74 22]]\n"
     ]
    }
   ],
   "source": [
    "# sorting \n",
    "M =ri(1,100,25).reshape(5,5)     # IT WILL PRINT MATRIX OF RANDOM INTEGER\n",
    "print(\"\\n 5x5 matrix of randon integer\\n\",\"-\"*50,'\\n', M)"
   ]
  },
  {
   "cell_type": "code",
   "execution_count": 16,
   "id": "57908b2e",
   "metadata": {},
   "outputs": [
    {
     "name": "stdout",
     "output_type": "stream",
     "text": [
      "\n",
      " Here is sorting of matrix along each row \n",
      " -------------------------------------------------- \n",
      " [[18 38 69 89 96]\n",
      " [28 44 60 92 98]\n",
      " [ 9 13 46 53 90]\n",
      " [49 52 70 80 94]\n",
      " [22 64 74 80 97]]\n",
      "\n",
      " Here is sorting of matrix along each COLOUM \n",
      " -------------------------------------------------- \n",
      " [[52  9 44 13 22]\n",
      " [53 18 80 74 28]\n",
      " [69 60 90 89 38]\n",
      " [80 64 96 92 46]\n",
      " [98 70 97 94 49]]\n"
     ]
    }
   ],
   "source": [
    "print(\"\\n Here is sorting of matrix along each row \\n\",\"-\"*50,'\\n',np.sort(M))\n",
    "print(\"\\n Here is sorting of matrix along each COLOUM \\n\",\"-\"*50,'\\n',np.sort(M, axis=0))"
   ]
  },
  {
   "cell_type": "code",
   "execution_count": null,
   "id": "f10532db",
   "metadata": {},
   "outputs": [],
   "source": [
    "# Indexing and slicing "
   ]
  },
  {
   "cell_type": "code",
   "execution_count": 17,
   "id": "749fbaf0",
   "metadata": {},
   "outputs": [
    {
     "name": "stdout",
     "output_type": "stream",
     "text": [
      "Array [13 14 15 16 17 18 19 20 21 22 23 24 25 26 27 28 29]\n"
     ]
    }
   ],
   "source": [
    "arr=np.arange(13,30)\n",
    "print(\"Array\", arr)"
   ]
  },
  {
   "cell_type": "code",
   "execution_count": 18,
   "id": "4caafe6e",
   "metadata": {},
   "outputs": [
    {
     "name": "stdout",
     "output_type": "stream",
     "text": [
      "Element at 7th index 20\n"
     ]
    }
   ],
   "source": [
    "print(\"Element at 7th index\",arr[7])"
   ]
  },
  {
   "cell_type": "code",
   "execution_count": 19,
   "id": "769270d3",
   "metadata": {},
   "outputs": [
    {
     "name": "stdout",
     "output_type": "stream",
     "text": [
      "The element from 5th to 8th index are [18 19 20]\n"
     ]
    }
   ],
   "source": [
    "print(\"The element from 5th to 8th index are\",arr[5:8])"
   ]
  },
  {
   "cell_type": "code",
   "execution_count": 20,
   "id": "42068045",
   "metadata": {},
   "outputs": [
    {
     "name": "stdout",
     "output_type": "stream",
     "text": [
      "Element form 4th index to last [17 18 19 20 21 22 23 24 25 26 27 28 29]\n"
     ]
    }
   ],
   "source": [
    "print(\"Element form 4th index to last\", arr[4:])"
   ]
  },
  {
   "cell_type": "code",
   "execution_count": 27,
   "id": "cf79f27d",
   "metadata": {},
   "outputs": [
    {
     "name": "stdout",
     "output_type": "stream",
     "text": [
      "element from last backword are [29 28 27 26 25 24 23 22 21 20 19 18 17 16 15 14]\n",
      "element from last backword are [29 27 25 23 21 19 17 15 13]\n"
     ]
    }
   ],
   "source": [
    "print(\"element from last backword are\", arr[-1:-17:-1])\n",
    "print(\"element from last backword are\", arr[-1::-2])\n"
   ]
  },
  {
   "cell_type": "code",
   "execution_count": 33,
   "id": "dd975bd3",
   "metadata": {},
   "outputs": [
    {
     "name": "stdout",
     "output_type": "stream",
     "text": [
      "New array : [ 0  2  4  6  8 10 12 14 16 18 20]\n"
     ]
    }
   ],
   "source": [
    "arr=np.arange(0,21,2)\n",
    "print(\"New array :\",arr)"
   ]
  },
  {
   "cell_type": "code",
   "execution_count": 34,
   "id": "800fd474",
   "metadata": {},
   "outputs": [
    {
     "name": "stdout",
     "output_type": "stream",
     "text": [
      "Element at 2nd ,4th and 8th index are:  [ 4  8 16]\n"
     ]
    }
   ],
   "source": [
    "print(\"Element at 2nd ,4th and 8th index are: \", arr[[2,4,8]])"
   ]
  },
  {
   "cell_type": "code",
   "execution_count": 37,
   "id": "18f78413",
   "metadata": {},
   "outputs": [
    {
     "data": {
      "text/plain": [
       "array([[1, 2, 3],\n",
       "       [4, 5, 6],\n",
       "       [7, 8, 9]])"
      ]
     },
     "execution_count": 37,
     "metadata": {},
     "output_type": "execute_result"
    }
   ],
   "source": [
    "my_mat=[[1,2,3],[4,5,6],[7,8,9]]\n",
    "mat=np.array(my_mat)\n",
    "mat"
   ]
  },
  {
   "cell_type": "code",
   "execution_count": 38,
   "id": "2c48d69a",
   "metadata": {},
   "outputs": [
    {
     "name": "stdout",
     "output_type": "stream",
     "text": [
      "The element at 1st row and 2nd column of matrix are -------------------------------------------------- \n",
      " 6\n"
     ]
    }
   ],
   "source": [
    "print('The element at 1st row and 2nd column of matrix are','-'*50,'\\n',mat[1][2])\n",
    "# index will start form 0 1 2 in both row and column wise"
   ]
  },
  {
   "cell_type": "code",
   "execution_count": 40,
   "id": "8ac36951",
   "metadata": {},
   "outputs": [
    {
     "name": "stdout",
     "output_type": "stream",
     "text": [
      "The element at 0 th row and 2nd column of matrix are -------------------------------------------------- \n",
      " 3\n"
     ]
    }
   ],
   "source": [
    "print('The element at 0 th row and 2nd column of matrix are','-'*50,'\\n',mat[0][2])\n",
    "# To select single element of martix"
   ]
  },
  {
   "cell_type": "code",
   "execution_count": 49,
   "id": "89bdc4dd",
   "metadata": {},
   "outputs": [
    {
     "data": {
      "text/plain": [
       "2"
      ]
     },
     "execution_count": 49,
     "metadata": {},
     "output_type": "execute_result"
    }
   ],
   "source": [
    "mat[0][1]\n"
   ]
  },
  {
   "cell_type": "code",
   "execution_count": 50,
   "id": "ec70fc5e",
   "metadata": {},
   "outputs": [
    {
     "data": {
      "text/plain": [
       "1"
      ]
     },
     "execution_count": 50,
     "metadata": {},
     "output_type": "execute_result"
    }
   ],
   "source": [
    "mat[0][0]"
   ]
  },
  {
   "cell_type": "code",
   "execution_count": 52,
   "id": "c0eef9d1",
   "metadata": {},
   "outputs": [
    {
     "name": "stdout",
     "output_type": "stream",
     "text": [
      "Entire element at row 2 \n",
      " [7 8 9]\n"
     ]
    }
   ],
   "source": [
    "print(\"Entire element at row 2\",'\\n',mat[2])"
   ]
  },
  {
   "cell_type": "code",
   "execution_count": 53,
   "id": "68edf421",
   "metadata": {},
   "outputs": [
    {
     "name": "stdout",
     "output_type": "stream",
     "text": [
      "Entire element at column 1 \n",
      " [[2 3]\n",
      " [5 6]\n",
      " [8 9]]\n"
     ]
    }
   ],
   "source": [
    "print(\"Entire element at column 1\",'\\n',mat[:,1:]) \n",
    "# position of column (,) is very important\n",
    "# To select multiple element of martix"
   ]
  },
  {
   "cell_type": "code",
   "execution_count": 54,
   "id": "ec75faed",
   "metadata": {},
   "outputs": [
    {
     "name": "stdout",
     "output_type": "stream",
     "text": [
      "Entire element at column 2 \n",
      " [[3]\n",
      " [6]\n",
      " [9]]\n"
     ]
    }
   ],
   "source": [
    "print(\"Entire element at column 2\",'\\n',mat[:,2:])"
   ]
  },
  {
   "cell_type": "code",
   "execution_count": 57,
   "id": "3d6976b4",
   "metadata": {},
   "outputs": [
    {
     "name": "stdout",
     "output_type": "stream",
     "text": [
      "Entire element at row 1 and column 1 \n",
      " [[5 6]\n",
      " [8 9]]\n"
     ]
    }
   ],
   "source": [
    "print(\"Entire element at row 1 and column 1\",'\\n',mat[1:,1:])"
   ]
  },
  {
   "cell_type": "code",
   "execution_count": 58,
   "id": "d47ddc73",
   "metadata": {},
   "outputs": [
    {
     "data": {
      "text/plain": [
       "array([[1, 2, 3],\n",
       "       [4, 5, 6],\n",
       "       [7, 8, 9]])"
      ]
     },
     "execution_count": 58,
     "metadata": {},
     "output_type": "execute_result"
    }
   ],
   "source": [
    "mat"
   ]
  },
  {
   "cell_type": "code",
   "execution_count": 66,
   "id": "a7ddad18",
   "metadata": {},
   "outputs": [
    {
     "data": {
      "text/plain": [
       "array([[5]])"
      ]
     },
     "execution_count": 66,
     "metadata": {},
     "output_type": "execute_result"
    }
   ],
   "source": [
    "mat[1:2,1:2]\n",
    "#matrix with row indices 1 and 2 and coloum 3 and 4"
   ]
  },
  {
   "cell_type": "code",
   "execution_count": 61,
   "id": "f956f2fe",
   "metadata": {},
   "outputs": [
    {
     "data": {
      "text/plain": [
       "array([[1, 2],\n",
       "       [4, 5]])"
      ]
     },
     "execution_count": 61,
     "metadata": {},
     "output_type": "execute_result"
    }
   ],
   "source": [
    "mat[0:2,0:2] # row 0 and row 1 :col0:col1  (# 0:2 means count row up to 1 . 2 will be excluded)"
   ]
  },
  {
   "cell_type": "code",
   "execution_count": 67,
   "id": "6122ab46",
   "metadata": {},
   "outputs": [
    {
     "data": {
      "text/plain": [
       "array([[1, 2]])"
      ]
     },
     "execution_count": 67,
     "metadata": {},
     "output_type": "execute_result"
    }
   ],
   "source": [
    "mat[0:1,0:2]"
   ]
  },
  {
   "cell_type": "code",
   "execution_count": 68,
   "id": "cc886f55",
   "metadata": {},
   "outputs": [
    {
     "name": "stdout",
     "output_type": "stream",
     "text": [
      "original matrix is \n",
      " [[ 1  2  3]\n",
      " [ 4  5 35]\n",
      " [ 7  8  9]]\n"
     ]
    }
   ],
   "source": [
    "# updating the martrix\n",
    "print(\"original matrix is \\n\",mat)"
   ]
  },
  {
   "cell_type": "code",
   "execution_count": 64,
   "id": "5eaf0a18",
   "metadata": {},
   "outputs": [
    {
     "name": "stdout",
     "output_type": "stream",
     "text": [
      "[[ 1  2  3]\n",
      " [ 4  5 35]\n",
      " [ 7  8  9]]\n"
     ]
    }
   ],
   "source": [
    "mat[1][2]=35\n",
    "print(mat)"
   ]
  },
  {
   "cell_type": "code",
   "execution_count": 69,
   "id": "b1f3f411",
   "metadata": {},
   "outputs": [
    {
     "data": {
      "text/plain": [
       "array([[  1, 135,   3],\n",
       "       [  4,   5,  35],\n",
       "       [  7,   8,   9]])"
      ]
     },
     "execution_count": 69,
     "metadata": {},
     "output_type": "execute_result"
    }
   ],
   "source": [
    "mat[0][1]=135\n",
    "mat"
   ]
  },
  {
   "cell_type": "code",
   "execution_count": 7,
   "id": "d876a9a2",
   "metadata": {},
   "outputs": [
    {
     "data": {
      "text/plain": [
       "array([[68, 74, 14, 52, 58],\n",
       "       [34, 71, 42, 84, 43],\n",
       "       [92, 40, 24, 81, 35]])"
      ]
     },
     "execution_count": 7,
     "metadata": {},
     "output_type": "execute_result"
    }
   ],
   "source": [
    "# Subsetting\n",
    "mat=np.array(ri(10,100,15).reshape(3,5))\n",
    "mat"
   ]
  },
  {
   "cell_type": "code",
   "execution_count": 8,
   "id": "53ad1800",
   "metadata": {},
   "outputs": [
    {
     "data": {
      "text/plain": [
       "array([[ True,  True, False,  True,  True],\n",
       "       [False,  True, False,  True, False],\n",
       "       [ True, False, False,  True, False]])"
      ]
     },
     "execution_count": 8,
     "metadata": {},
     "output_type": "execute_result"
    }
   ],
   "source": [
    "mat>50"
   ]
  },
  {
   "cell_type": "code",
   "execution_count": 11,
   "id": "54478953",
   "metadata": {},
   "outputs": [
    {
     "data": {
      "text/plain": [
       "array([68, 74, 52, 58, 71, 84, 92, 81])"
      ]
     },
     "execution_count": 11,
     "metadata": {},
     "output_type": "execute_result"
    }
   ],
   "source": [
    "mat[mat > 50]"
   ]
  },
  {
   "cell_type": "code",
   "execution_count": 12,
   "id": "0e36fc06",
   "metadata": {},
   "outputs": [
    {
     "data": {
      "text/plain": [
       "array([[False, False, False, False,  True],\n",
       "       [False, False, False, False, False],\n",
       "       [False, False, False, False, False]])"
      ]
     },
     "execution_count": 12,
     "metadata": {},
     "output_type": "execute_result"
    }
   ],
   "source": [
    "mat==58"
   ]
  },
  {
   "cell_type": "code",
   "execution_count": 13,
   "id": "c05d9dee",
   "metadata": {},
   "outputs": [
    {
     "data": {
      "text/plain": [
       "array([58])"
      ]
     },
     "execution_count": 13,
     "metadata": {},
     "output_type": "execute_result"
    }
   ],
   "source": [
    "mat[mat==58]"
   ]
  },
  {
   "cell_type": "code",
   "execution_count": 18,
   "id": "f57ff568",
   "metadata": {},
   "outputs": [
    {
     "name": "stdout",
     "output_type": "stream",
     "text": [
      "(array([0], dtype=int64), array([4], dtype=int64))\n"
     ]
    }
   ],
   "source": [
    "print(np.where(mat==58))"
   ]
  },
  {
   "cell_type": "code",
   "execution_count": 19,
   "id": "2c591177",
   "metadata": {},
   "outputs": [
    {
     "name": "stdout",
     "output_type": "stream",
     "text": [
      "(array([2], dtype=int64), array([4], dtype=int64))\n"
     ]
    }
   ],
   "source": [
    "print(np.where(mat==35))"
   ]
  },
  {
   "cell_type": "code",
   "execution_count": null,
   "id": "e8ae7c24",
   "metadata": {},
   "outputs": [],
   "source": [
    "# matrix operation (universal combination)"
   ]
  },
  {
   "cell_type": "code",
   "execution_count": 36,
   "id": "653903f3",
   "metadata": {},
   "outputs": [
    {
     "name": "stdout",
     "output_type": "stream",
     "text": [
      "\n",
      "-----------------------------------------------------------\n",
      "The first matrix is\n",
      " [[2 1 5]\n",
      " [5 3 4]\n",
      " [5 6 6]]\n",
      "\n",
      "----------------------------------------------------------\n",
      "The second matrix is\n",
      " [[6 3 3]\n",
      " [1 6 3]\n",
      " [4 8 6]]\n"
     ]
    }
   ],
   "source": [
    "mat1= np.array(ri(1,7,9).reshape(3,3))\n",
    "mat2=np.array(ri(1,10,9).reshape(3,3))\n",
    "print(\"\\n-----------------------------------------------------------\\nThe first matrix is\\n\",mat1)\n",
    "print(\"\\n----------------------------------------------------------\\nThe second matrix is\\n\",mat2)"
   ]
  },
  {
   "cell_type": "code",
   "execution_count": 37,
   "id": "73fa83c9",
   "metadata": {},
   "outputs": [
    {
     "name": "stdout",
     "output_type": "stream",
     "text": [
      "The addition of two matrix is mat1 + mat2 = \n",
      " [[ 8  4  8]\n",
      " [ 6  9  7]\n",
      " [ 9 14 12]]\n"
     ]
    }
   ],
   "source": [
    "print('The addition of two matrix is','mat1 + mat2','=','\\n',mat1 + mat2)"
   ]
  },
  {
   "cell_type": "code",
   "execution_count": 38,
   "id": "8ee59c03",
   "metadata": {},
   "outputs": [
    {
     "name": "stdout",
     "output_type": "stream",
     "text": [
      "The multiplication of two matrix is mat1 x mat2 = \n",
      " [[12  3 15]\n",
      " [ 5 18 12]\n",
      " [20 48 36]]\n"
     ]
    }
   ],
   "source": [
    "print('The multiplication of two matrix is','mat1 x mat2','=','\\n',mat1*mat2)"
   ]
  },
  {
   "cell_type": "code",
   "execution_count": 39,
   "id": "81062e7e",
   "metadata": {},
   "outputs": [
    {
     "data": {
      "text/plain": [
       "array([[-6, -3,  9],\n",
       "       [13, -3,  6],\n",
       "       [ 7,  2,  6]])"
      ]
     },
     "execution_count": 39,
     "metadata": {},
     "output_type": "execute_result"
    }
   ],
   "source": [
    "3*mat1-2*mat2"
   ]
  },
  {
   "cell_type": "code",
   "execution_count": 40,
   "id": "4f62efe9",
   "metadata": {},
   "outputs": [
    {
     "data": {
      "text/plain": [
       "array([[18,  9, 21],\n",
       "       [17, 21, 18],\n",
       "       [23, 34, 30]])"
      ]
     },
     "execution_count": 40,
     "metadata": {},
     "output_type": "execute_result"
    }
   ],
   "source": [
    "3*mat1+2*mat2"
   ]
  },
  {
   "cell_type": "code",
   "execution_count": 41,
   "id": "2a48a43b",
   "metadata": {},
   "outputs": [
    {
     "data": {
      "text/plain": [
       "array([[0.33333333, 0.33333333, 1.66666667],\n",
       "       [5.        , 0.5       , 1.33333333],\n",
       "       [1.25      , 0.75      , 1.        ]])"
      ]
     },
     "execution_count": 41,
     "metadata": {},
     "output_type": "execute_result"
    }
   ],
   "source": [
    "mat1/mat2"
   ]
  },
  {
   "cell_type": "code",
   "execution_count": 56,
   "id": "f244e017",
   "metadata": {},
   "outputs": [
    {
     "data": {
      "text/plain": [
       "array([[1., 1., 1.],\n",
       "       [1., 1., 1.],\n",
       "       [1., 1., 1.]])"
      ]
     },
     "execution_count": 56,
     "metadata": {},
     "output_type": "execute_result"
    }
   ],
   "source": [
    "#broadcasting\n",
    "start=np.ones((3,3))\n",
    "start"
   ]
  },
  {
   "cell_type": "code",
   "execution_count": 54,
   "id": "50dc4efe",
   "metadata": {},
   "outputs": [
    {
     "data": {
      "text/plain": [
       "array([1, 9, 3])"
      ]
     },
     "execution_count": 54,
     "metadata": {},
     "output_type": "execute_result"
    }
   ],
   "source": [
    "one_row=np.array([1,9,3])\n",
    "one_row"
   ]
  },
  {
   "cell_type": "code",
   "execution_count": 57,
   "id": "c6a400f0",
   "metadata": {},
   "outputs": [
    {
     "name": "stdout",
     "output_type": "stream",
     "text": [
      "[[ 2. 10.  4.]\n",
      " [ 2. 10.  4.]\n",
      " [ 2. 10.  4.]]\n"
     ]
    }
   ],
   "source": [
    "print(start + one_row)"
   ]
  },
  {
   "cell_type": "code",
   "execution_count": 58,
   "id": "6c7f914c",
   "metadata": {},
   "outputs": [
    {
     "name": "stdout",
     "output_type": "stream",
     "text": [
      "[ 2 18  6]\n"
     ]
    }
   ],
   "source": [
    "print(one_row + one_row.T)"
   ]
  },
  {
   "cell_type": "code",
   "execution_count": 59,
   "id": "134fb24c",
   "metadata": {},
   "outputs": [
    {
     "name": "stdout",
     "output_type": "stream",
     "text": [
      "[ 1 81  9]\n"
     ]
    }
   ],
   "source": [
    "print(one_row * one_row.T)"
   ]
  },
  {
   "cell_type": "code",
   "execution_count": null,
   "id": "6bc4e8b8",
   "metadata": {},
   "outputs": [],
   "source": [
    "#ARRAY MATH"
   ]
  },
  {
   "cell_type": "code",
   "execution_count": 63,
   "id": "e40b9ac3",
   "metadata": {},
   "outputs": [
    {
     "name": "stdout",
     "output_type": "stream",
     "text": [
      "\n",
      "-----------------------------------------------------------\n",
      "The first matrix is\n",
      " [[11 12 15]\n",
      " [11 10 11]\n",
      " [15 13 14]]\n",
      "\n",
      "----------------------------------------------------------\n",
      "The second matrix is\n",
      " [[92 66 28]\n",
      " [28 80 34]\n",
      " [63 75 82]]\n"
     ]
    }
   ],
   "source": [
    "mat1= np.array(ri(10,17,9).reshape(3,3))\n",
    "mat2=np.array(ri(20,100, 9).reshape(3,3))\n",
    "print(\"\\n-----------------------------------------------------------\\nThe first matrix is\\n\",mat1)\n",
    "print(\"\\n----------------------------------------------------------\\nThe second matrix is\\n\",mat2)"
   ]
  },
  {
   "cell_type": "code",
   "execution_count": 66,
   "id": "03941e38",
   "metadata": {},
   "outputs": [
    {
     "name": "stdout",
     "output_type": "stream",
     "text": [
      "\n",
      "-----------------------------------------------------------\n",
      "The square root first matrix is\n",
      " [[3.31662479 3.46410162 3.87298335]\n",
      " [3.31662479 3.16227766 3.31662479]\n",
      " [3.87298335 3.60555128 3.74165739]]\n",
      "\n",
      "----------------------------------------------------------\n",
      "The square of matrix is \n",
      " [[8464 4356  784]\n",
      " [ 784 6400 1156]\n",
      " [3969 5625 6724]]\n"
     ]
    }
   ],
   "source": [
    "print(\"\\n-----------------------------------------------------------\\nThe square root first matrix is\\n\",np.sqrt(mat1))\n",
    "print(\"\\n----------------------------------------------------------\\nThe square of matrix is \\n\",np.square(mat2))"
   ]
  },
  {
   "cell_type": "code",
   "execution_count": 67,
   "id": "f76fb666",
   "metadata": {},
   "outputs": [
    {
     "name": "stdout",
     "output_type": "stream",
     "text": [
      "1\n"
     ]
    }
   ],
   "source": [
    " a = np.array([1,2,3,5,8])\n",
    "\n",
    " print (a.ndim)"
   ]
  },
  {
   "cell_type": "code",
   "execution_count": 70,
   "id": "d2cee51c",
   "metadata": {},
   "outputs": [
    {
     "data": {
      "text/plain": [
       "array([1.+0.j, 2.+0.j, 3.+0.j])"
      ]
     },
     "execution_count": 70,
     "metadata": {},
     "output_type": "execute_result"
    }
   ],
   "source": [
    "a = np.array([1, 2, 3], dtype = complex)\n",
    "\n",
    "a"
   ]
  },
  {
   "cell_type": "code",
   "execution_count": 71,
   "id": "024e7e56",
   "metadata": {},
   "outputs": [
    {
     "name": "stdout",
     "output_type": "stream",
     "text": [
      "int32\n"
     ]
    }
   ],
   "source": [
    "dt = dt = np.dtype('i4')\n",
    "\n",
    "print (dt)"
   ]
  },
  {
   "cell_type": "code",
   "execution_count": 72,
   "id": "6462f621",
   "metadata": {},
   "outputs": [
    {
     "name": "stdout",
     "output_type": "stream",
     "text": [
      "21\n"
     ]
    }
   ],
   "source": [
    " import numpy as np\n",
    "\n",
    " a = np.array([1,2,3,5,8])\n",
    "\n",
    " b = np.array([0,3,4,2,1])\n",
    "\n",
    " c = a + b\n",
    "\n",
    " c = c*a\n",
    "\n",
    " print (c[2])"
   ]
  },
  {
   "cell_type": "code",
   "execution_count": 73,
   "id": "8ac4ee0a",
   "metadata": {},
   "outputs": [
    {
     "name": "stdout",
     "output_type": "stream",
     "text": [
      "5\n"
     ]
    }
   ],
   "source": [
    " import numpy as np\n",
    "\n",
    " a = np.array([[1,2,3],[0,1,4]])\n",
    "\n",
    " b = np.zeros((2,3), dtype=np.int16)\n",
    "\n",
    " c = np.ones((2,3), dtype=np.int16)\n",
    "\n",
    " d = a + b + c\n",
    "\n",
    " print (d[1,2] )\n",
    "\n"
   ]
  },
  {
   "cell_type": "code",
   "execution_count": 74,
   "id": "df2cbcfe",
   "metadata": {},
   "outputs": [
    {
     "name": "stdout",
     "output_type": "stream",
     "text": [
      "3\n"
     ]
    }
   ],
   "source": [
    "\n",
    " import numpy as np\n",
    "\n",
    " ary = np.array([1,2,3,5,8])\n",
    "\n",
    " ary = ary + 1\n",
    "\n",
    " print (ary[1])"
   ]
  },
  {
   "cell_type": "code",
   "execution_count": 75,
   "id": "912b48b5",
   "metadata": {},
   "outputs": [
    {
     "name": "stdout",
     "output_type": "stream",
     "text": [
      "6\n"
     ]
    }
   ],
   "source": [
    "\n",
    " import numpy as np\n",
    "\n",
    " a = np.array([[1,2,3],[0,1,4]])\n",
    "\n",
    " print (a.size)"
   ]
  },
  {
   "cell_type": "code",
   "execution_count": null,
   "id": "eaf1f263",
   "metadata": {},
   "outputs": [],
   "source": []
  }
 ],
 "metadata": {
  "kernelspec": {
   "display_name": "Python 3 (ipykernel)",
   "language": "python",
   "name": "python3"
  },
  "language_info": {
   "codemirror_mode": {
    "name": "ipython",
    "version": 3
   },
   "file_extension": ".py",
   "mimetype": "text/x-python",
   "name": "python",
   "nbconvert_exporter": "python",
   "pygments_lexer": "ipython3",
   "version": "3.9.12"
  }
 },
 "nbformat": 4,
 "nbformat_minor": 5
}
