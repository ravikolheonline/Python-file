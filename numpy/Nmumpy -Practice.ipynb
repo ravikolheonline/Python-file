{
 "cells": [
  {
   "cell_type": "code",
   "execution_count": null,
   "id": "476fb072",
   "metadata": {},
   "outputs": [],
   "source": [
    "# to study numpy "
   ]
  },
  {
   "cell_type": "code",
   "execution_count": 1,
   "id": "46699a3a",
   "metadata": {},
   "outputs": [],
   "source": [
    "import numpy as np"
   ]
  },
  {
   "cell_type": "code",
   "execution_count": 2,
   "id": "b85c370f",
   "metadata": {},
   "outputs": [
    {
     "data": {
      "text/plain": [
       "array([ 5,  9, 13])"
      ]
     },
     "execution_count": 2,
     "metadata": {},
     "output_type": "execute_result"
    }
   ],
   "source": [
    "np.array([5, 9, 13])"
   ]
  },
  {
   "cell_type": "code",
   "execution_count": 3,
   "id": "dc3fe896",
   "metadata": {},
   "outputs": [
    {
     "data": {
      "text/plain": [
       "list"
      ]
     },
     "execution_count": 3,
     "metadata": {},
     "output_type": "execute_result"
    }
   ],
   "source": [
    "type([5, 9, 13])"
   ]
  },
  {
   "cell_type": "code",
   "execution_count": 6,
   "id": "935a6156",
   "metadata": {},
   "outputs": [
    {
     "name": "stdout",
     "output_type": "stream",
     "text": [
      "Type int32\n",
      "\n",
      " ******************************\n",
      "\n",
      " [[ 5  9]\n",
      " [10 11]\n",
      " [20 21]]\n"
     ]
    }
   ],
   "source": [
    "a = np.array([[5,9], [10, 11], [20,21]])\n",
    "print(\"Type\",a.dtype)\n",
    "print(\"\\n\",\"*\"*30)\n",
    "print(\"\\n\", a)"
   ]
  },
  {
   "cell_type": "code",
   "execution_count": 9,
   "id": "7785c9b2",
   "metadata": {},
   "outputs": [
    {
     "data": {
      "text/plain": [
       "array([1., 2., 3.])"
      ]
     },
     "execution_count": 9,
     "metadata": {},
     "output_type": "execute_result"
    }
   ],
   "source": [
    "# conversion of dtype(data type)\n",
    "np.array([1, 2, 3], dtype=float)\n"
   ]
  },
  {
   "cell_type": "code",
   "execution_count": 13,
   "id": "dcf9e237",
   "metadata": {},
   "outputs": [
    {
     "data": {
      "text/plain": [
       "array([[1, 2, 3],\n",
       "       [3, 4, 5]])"
      ]
     },
     "execution_count": 13,
     "metadata": {},
     "output_type": "execute_result"
    }
   ],
   "source": [
    "#cerating array using .mat(matrix)\n",
    "np.array(np.mat('1 2 3; 3  4  5'))"
   ]
  },
  {
   "cell_type": "code",
   "execution_count": 14,
   "id": "6fc60177",
   "metadata": {},
   "outputs": [
    {
     "name": "stdout",
     "output_type": "stream",
     "text": [
      "[1 2 3 4 5 6]\n"
     ]
    }
   ],
   "source": [
    "# convert list in to array\n",
    "a= [1,2,3,4,5,6]\n",
    "b=np.array(a)\n",
    "print(b)"
   ]
  },
  {
   "cell_type": "code",
   "execution_count": 15,
   "id": "8fd3002a",
   "metadata": {},
   "outputs": [
    {
     "name": "stdout",
     "output_type": "stream",
     "text": [
      "[1 2 3 4 5 6]\n"
     ]
    }
   ],
   "source": [
    "# copy array in to other\n",
    "c=np.array(b)\n",
    "print(c)"
   ]
  },
  {
   "cell_type": "code",
   "execution_count": null,
   "id": "51e4a076",
   "metadata": {},
   "outputs": [],
   "source": []
  }
 ],
 "metadata": {
  "kernelspec": {
   "display_name": "Python 3 (ipykernel)",
   "language": "python",
   "name": "python3"
  },
  "language_info": {
   "codemirror_mode": {
    "name": "ipython",
    "version": 3
   },
   "file_extension": ".py",
   "mimetype": "text/x-python",
   "name": "python",
   "nbconvert_exporter": "python",
   "pygments_lexer": "ipython3",
   "version": "3.9.12"
  }
 },
 "nbformat": 4,
 "nbformat_minor": 5
}
